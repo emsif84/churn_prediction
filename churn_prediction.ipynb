{
 "cells": [
  {
   "cell_type": "markdown",
   "metadata": {},
   "source": [
    "### Still in progress!"
   ]
  },
  {
   "cell_type": "code",
   "execution_count": 2,
   "metadata": {},
   "outputs": [],
   "source": [
    "import pandas as pd\n",
    "import numpy as np\n",
    "import matplotlib.pyplot as plt\n",
    "import seaborn as sns\n",
    "sns.set_theme()\n",
    "import warnings\n",
    "warnings.simplefilter(action='ignore', category=FutureWarning)"
   ]
  },
  {
   "cell_type": "code",
   "execution_count": 3,
   "metadata": {},
   "outputs": [],
   "source": [
    "data_ml = pd.read_csv('data_ml.csv')"
   ]
  },
  {
   "cell_type": "markdown",
   "metadata": {},
   "source": [
    "# 1 Data Inspection"
   ]
  },
  {
   "cell_type": "code",
   "execution_count": 4,
   "metadata": {},
   "outputs": [
    {
     "name": "stdout",
     "output_type": "stream",
     "text": [
      "<class 'pandas.core.frame.DataFrame'>\n",
      "RangeIndex: 7030 entries, 0 to 7029\n",
      "Data columns (total 21 columns):\n",
      " #   Column            Non-Null Count  Dtype  \n",
      "---  ------            --------------  -----  \n",
      " 0   Unnamed: 0        7030 non-null   int64  \n",
      " 1   gender            7030 non-null   object \n",
      " 2   SeniorCitizen     7030 non-null   object \n",
      " 3   Partner           7030 non-null   object \n",
      " 4   Dependents        7030 non-null   object \n",
      " 5   tenure            7030 non-null   int64  \n",
      " 6   PhoneService      7030 non-null   object \n",
      " 7   MultipleLines     7030 non-null   object \n",
      " 8   InternetService   7030 non-null   object \n",
      " 9   OnlineSecurity    7030 non-null   object \n",
      " 10  OnlineBackup      7030 non-null   object \n",
      " 11  DeviceProtection  7030 non-null   object \n",
      " 12  TechSupport       7030 non-null   object \n",
      " 13  StreamingTV       7030 non-null   object \n",
      " 14  StreamingMovies   7030 non-null   object \n",
      " 15  Contract          7030 non-null   object \n",
      " 16  PaperlessBilling  7030 non-null   object \n",
      " 17  PaymentMethod     7030 non-null   object \n",
      " 18  MonthlyCharges    7030 non-null   float64\n",
      " 19  TotalCharges      7030 non-null   float64\n",
      " 20  Churn             7030 non-null   object \n",
      "dtypes: float64(2), int64(2), object(17)\n",
      "memory usage: 1.1+ MB\n"
     ]
    }
   ],
   "source": [
    "data_ml.info()"
   ]
  },
  {
   "cell_type": "code",
   "execution_count": 5,
   "metadata": {},
   "outputs": [
    {
     "name": "stdout",
     "output_type": "stream",
     "text": [
      "gender ['Female' 'Male']\n",
      "SeniorCitizen ['No' 'Yes']\n",
      "Partner ['Yes' 'No']\n",
      "Dependents ['No' 'Yes']\n",
      "PhoneService ['No' 'Yes']\n",
      "MultipleLines ['No phone service' 'No' 'Yes']\n",
      "InternetService ['DSL' 'Fiber optic' 'No']\n",
      "OnlineSecurity ['No' 'Yes' 'No internet service']\n",
      "OnlineBackup ['Yes' 'No' 'No internet service']\n",
      "DeviceProtection ['No' 'Yes' 'No internet service']\n",
      "TechSupport ['No' 'Yes' 'No internet service']\n",
      "StreamingTV ['No' 'Yes' 'No internet service']\n",
      "StreamingMovies ['No' 'Yes' 'No internet service']\n",
      "Contract ['Month-to-month' 'One year' 'Two year']\n",
      "PaperlessBilling ['Yes' 'No']\n",
      "PaymentMethod ['Electronic check' 'Mailed check' 'Bank transfer (automatic)'\n",
      " 'Credit card (automatic)']\n",
      "Churn ['No' 'Yes']\n"
     ]
    }
   ],
   "source": [
    "#Checking levels of categorical features\n",
    "for i in data_ml.columns:\n",
    "    if data_ml[i].dtype == 'object':\n",
    "        print(f'{i} {data_ml[i].unique()}')"
   ]
  },
  {
   "cell_type": "markdown",
   "metadata": {},
   "source": [
    "# 2 Feature Engineering"
   ]
  },
  {
   "cell_type": "markdown",
   "metadata": {},
   "source": [
    "The dataset was partially processed during the exploratory data analysis (Part 1): Datatypes were changed. Redundant variables were deletet, outliers were and missing values were transformed (-> see Part 1: Exploratory Data Analysis)"
   ]
  },
  {
   "cell_type": "markdown",
   "metadata": {},
   "source": [
    "## 2.1 Delete redundant variable"
   ]
  },
  {
   "cell_type": "code",
   "execution_count": 6,
   "metadata": {},
   "outputs": [],
   "source": [
    "#Delete first column\n",
    "data_ml = data_ml.iloc[:,1:]"
   ]
  },
  {
   "cell_type": "markdown",
   "metadata": {},
   "source": [
    "## 2.2 One Hot Encoding"
   ]
  },
  {
   "cell_type": "code",
   "execution_count": 7,
   "metadata": {},
   "outputs": [],
   "source": [
    "from sklearn.preprocessing import OneHotEncoder\n",
    "\n",
    "#Seperate data into categorical features and numerical features \n",
    "data_cat = data_ml.select_dtypes(include=['object','category']).copy()\n",
    "data_num = data_ml.select_dtypes(include=['float64','int64']).copy()\n",
    "\n",
    "ohe = OneHotEncoder()\n",
    "\n",
    "#instantiate and fit One Hot Encoder with categorical features\n",
    "ohe = OneHotEncoder(drop='first', sparse_output=False)\n",
    "data_cat_encoded = ohe.fit_transform(data_cat)\n",
    "\n",
    "#Generate Dataframe with encoded categorical features\n",
    "feature_names = ohe.get_feature_names_out(input_features=data_cat.columns)\n",
    "data_cat_df = pd.DataFrame(data_cat_encoded, columns=feature_names, index=data_cat.index)\n",
    "\n",
    "#Concat encoded categorical features with numerical features\n",
    "data_trans = pd.concat([data_cat_df, data_num], axis=1)"
   ]
  },
  {
   "cell_type": "markdown",
   "metadata": {},
   "source": [
    "## 2.3 Train Test Split"
   ]
  },
  {
   "cell_type": "code",
   "execution_count": 8,
   "metadata": {},
   "outputs": [],
   "source": [
    "from sklearn.model_selection import train_test_split\n",
    "\n",
    "#Train/Test Split\n",
    "X = data_trans.drop(columns='Churn_Yes')\n",
    "y = data_trans['Churn_Yes']\n",
    "X_train, X_test, y_train, y_test = train_test_split(X,y,test_size=0.2,stratify=y,random_state=123)"
   ]
  },
  {
   "cell_type": "code",
   "execution_count": 9,
   "metadata": {},
   "outputs": [
    {
     "name": "stdout",
     "output_type": "stream",
     "text": [
      "y_train Churn_Yes\n",
      "0.0    0.735953\n",
      "1.0    0.264047\n",
      "Name: proportion, dtype: float64\n",
      "\n",
      "y_test Churn_Yes\n",
      "0.0    0.736131\n",
      "1.0    0.263869\n",
      "Name: proportion, dtype: float64\n"
     ]
    }
   ],
   "source": [
    "# Check Stratify\n",
    "print('y_train',y_train.value_counts(normalize=True))\n",
    "print('')\n",
    "print('y_test',y_test.value_counts(normalize=True))"
   ]
  },
  {
   "cell_type": "markdown",
   "metadata": {},
   "source": [
    "## 2.4 Quantile Transforming"
   ]
  },
  {
   "cell_type": "markdown",
   "metadata": {},
   "source": [
    "Quantile transformation of the features 'MonthlyCharges' and 'Total Charges' and 'tenure\n",
    ".fit_transform of X_train and .transform of X_test to avoid data leakage"
   ]
  },
  {
   "cell_type": "code",
   "execution_count": 10,
   "metadata": {},
   "outputs": [
    {
     "data": {
      "image/png": "[encoded data removed]",
      "text/plain": [
       "<Figure size 1200x400 with 3 Axes>"
      ]
     },
     "metadata": {},
     "output_type": "display_data"
    }
   ],
   "source": [
    "#Plot original distribution of Monthly and Total Charges\n",
    "\n",
    "def dist_before_quantile():\n",
    "\n",
    "    fig, ax = plt.subplots(1,3,figsize=(12,4))\n",
    "\n",
    "    #Subplot 1: Monthlycharges\n",
    "    data_ml.MonthlyCharges.hist(ax=ax[0],histtype='step',fill=True,alpha=0.8)\n",
    "    ax[0].set_title('Original Distribution MonthlyCharges')\n",
    "    ax[0].set_xlabel('MonthlyCharges')\n",
    "    ax[0].set_ylabel=('Count')\n",
    "\n",
    "    #Subplot 2: Totalcharges\n",
    "    data_ml.TotalCharges.hist(ax=ax[1],histtype='step',fill=True,alpha=0.8)\n",
    "    ax[1].set_title('Original Distribution TotalCharges')\n",
    "    ax[1].set_xlabel('TotalCharges')\n",
    "    ax[1].set_ylabel=('Count')\n",
    "\n",
    "    #Subplot 3: tenure\n",
    "    data_ml.tenure.hist(ax=ax[2],histtype='step',fill=True,alpha=0.8)\n",
    "    ax[2].set_title('Original Distribution tenure')\n",
    "    ax[2].set_xlabel('tenure')\n",
    "    ax[2].set_ylabel=('Count')\n",
    "\n",
    "    plt.tight_layout()\n",
    "\n",
    "dist_before_quantile()"
   ]
  },
  {
   "cell_type": "code",
   "execution_count": 11,
   "metadata": {},
   "outputs": [],
   "source": [
    "#Quantile Transforming\n",
    "\n",
    "from sklearn.preprocessing import QuantileTransformer\n",
    "\n",
    "#Instantiate Quantile Transformer\n",
    "quantile_normal = QuantileTransformer(output_distribution='normal')\n",
    "\n",
    "# Fit Transform X_train\n",
    "X_train[['MonthlyCharges','TotalCharges','tenure']] = quantile_normal.fit_transform(X_train[['MonthlyCharges','TotalCharges','tenure']])\n",
    "\n",
    "#Transform X_test\n",
    "X_test[['MonthlyCharges','TotalCharges','tenure']] = quantile_normal.transform(X_test[['MonthlyCharges','TotalCharges','tenure']])"
   ]
  },
  {
   "cell_type": "code",
   "execution_count": 12,
   "metadata": {},
   "outputs": [
    {
     "data": {
      "image/png": "[encoded data removed]",
      "text/plain": [
       "<Figure size 1200x400 with 3 Axes>"
      ]
     },
     "metadata": {},
     "output_type": "display_data"
    }
   ],
   "source": [
    "#Plot distribution after transforming\n",
    "\n",
    "def dist_after_quantile():\n",
    "    fig, ax = plt.subplots(1,3,figsize=(12,4))\n",
    "\n",
    "    #Subplot 1: transformed MonthlyCharges\n",
    "    sns.histplot(X_train.MonthlyCharges,ax=ax[0])\n",
    "    ax[0].set_title('Distribution MonthlyCharges after transforming')\n",
    "    ax[0].set_xlabel('MonthlyCharges')\n",
    "    ax[0].set_ylabel=('Count')\n",
    "\n",
    "    #Subplot 2: transformed TotalCharges\n",
    "    sns.histplot(X_train.TotalCharges,ax=ax[1])\n",
    "    ax[1].set_title('Distribution TotalCharges after transforming')\n",
    "    ax[1].set_xlabel('TotalCharges')\n",
    "    ax[1].set_ylabel=('Count')\n",
    "\n",
    "    #Subplot 3: transformed tenure\n",
    "    sns.histplot(X_train.tenure,ax=ax[2])\n",
    "    ax[2].set_title('Distribution tenure after transforming')\n",
    "    ax[2].set_xlabel('tenure')\n",
    "    ax[2].set_ylabel=('Count')\n",
    "\n",
    "    plt.tight_layout()\n",
    "\n",
    "dist_after_quantile()"
   ]
  },
  {
   "cell_type": "markdown",
   "metadata": {},
   "source": [
    "## 2.5 Class Balancing"
   ]
  },
  {
   "cell_type": "code",
   "execution_count": 13,
   "metadata": {},
   "outputs": [
    {
     "data": {
      "text/plain": [
       "Churn\n",
       "No     0.735989\n",
       "Yes    0.264011\n",
       "Name: proportion, dtype: float64"
      ]
     },
     "execution_count": 13,
     "metadata": {},
     "output_type": "execute_result"
    }
   ],
   "source": [
    "#Original Distribution target 'Churn'\n",
    "data_ml.Churn.value_counts(normalize=True)"
   ]
  },
  {
   "cell_type": "code",
   "execution_count": 14,
   "metadata": {},
   "outputs": [],
   "source": [
    "#Oversampling/Undersampling\n",
    "from imblearn.over_sampling import SMOTE\n",
    "from imblearn.under_sampling import RandomUnderSampler\n",
    "from imblearn.pipeline import Pipeline\n",
    "\n",
    "over = SMOTE()\n",
    "under = RandomUnderSampler()\n",
    "steps = [('o',over),('u',under)]\n",
    "pipeline = Pipeline(steps=steps)\n",
    "X_train_bal, y_train_bal = pipeline.fit_resample(X_train,y_train)\n",
    "\n",
    "\n",
    "#https://machinelearningmastery.com/smote-oversampling-for-imbalanced-classification/"
   ]
  },
  {
   "cell_type": "code",
   "execution_count": 15,
   "metadata": {},
   "outputs": [
    {
     "data": {
      "text/plain": [
       "Churn_Yes\n",
       "0.0    4139\n",
       "1.0    4139\n",
       "Name: count, dtype: int64"
      ]
     },
     "execution_count": 15,
     "metadata": {},
     "output_type": "execute_result"
    }
   ],
   "source": [
    "y_train_bal.value_counts()"
   ]
  },
  {
   "cell_type": "markdown",
   "metadata": {},
   "source": [
    "# 3 Training"
   ]
  },
  {
   "cell_type": "code",
   "execution_count": 28,
   "metadata": {},
   "outputs": [],
   "source": [
    "from sklearn import metrics\n",
    "from sklearn.metrics import ConfusionMatrixDisplay, confusion_matrix,classification_report\n",
    "from sklearn.model_selection import GridSearchCV\n",
    "from mlxtend.feature_selection import SequentialFeatureSelector\n",
    "from mlxtend.plotting import plot_sequential_feature_selection as plot_sfs\n",
    "from sklearn.linear_model import LogisticRegression\n",
    "from sklearn.neighbors import KNeighborsClassifier\n",
    "from sklearn.svm import SVC\n",
    "from sklearn.ensemble import RandomForestClassifier\n",
    "from sklearn.metrics import accuracy_score,recall_score,precision_score,f1_score,roc_auc_score\n",
    "from sklearn.model_selection import ValidationCurveDisplay\n",
    "\n",
    "import mlflow\n",
    "from mlflow.models.signature import infer_signature\n",
    "mlflow.set_tracking_uri(uri='http://127.0.0.1:8080')"
   ]
  },
  {
   "cell_type": "markdown",
   "metadata": {},
   "source": [
    "## 3.1 Metric"
   ]
  },
  {
   "cell_type": "markdown",
   "metadata": {},
   "source": [
    "Goal is to keep as much as customers as possible. Therefore, recall is the best metric for this. It answers the question, how good the model is in predicting customers which are truly churned.\n",
    "\n",
    "Recall (True Positive Rate) = True Positives / True Positives + False Negative"
   ]
  },
  {
   "cell_type": "markdown",
   "metadata": {},
   "source": [
    "## 3.2 Model 1: Logistic Regression"
   ]
  },
  {
   "cell_type": "code",
   "execution_count": 29,
   "metadata": {},
   "outputs": [
    {
     "name": "stdout",
     "output_type": "stream",
     "text": [
      "best params: {'C': 0.1, 'penalty': 'l1', 'solver': 'saga'}\n",
      "best recall: 0.8113070933295947 \n",
      "\n",
      "mean_test_score: [0.7175645  0.81082225 0.80574745 0.80502486 0.81130709 0.80768361] \n",
      "\n"
     ]
    },
    {
     "name": "stderr",
     "output_type": "stream",
     "text": [
      "Registered model 'Log Regression' already exists. Creating a new version of this model...\n",
      "2025/04/01 18:36:21 INFO mlflow.store.model_registry.abstract_store: Waiting up to 300 seconds for model version to finish creation. Model name: Log Regression, version 16\n"
     ]
    },
    {
     "name": "stdout",
     "output_type": "stream",
     "text": [
      "🏃 View run glamorous-boar-233 at: http://127.0.0.1:8080/#/experiments/213517147752326983/runs/4530fe508eb548c9b4fb0ec441f388b9\n",
      "🧪 View experiment at: http://127.0.0.1:8080/#/experiments/213517147752326983\n"
     ]
    },
    {
     "name": "stderr",
     "output_type": "stream",
     "text": [
      "Created version '16' of model 'Log Regression'.\n"
     ]
    }
   ],
   "source": [
    "#Instantiate LogisticRegression\n",
    "lr = LogisticRegression(max_iter=1000)\n",
    "\n",
    "#Dictionary for hyperparameter tuning\n",
    "lr_param_dict = {'penalty':['l1','l2'],\n",
    "                 'solver':['saga'],\n",
    "                 'C':[0.001, 0.01, 0.1]\n",
    "                 }\n",
    "\n",
    "#Instantiate GridsearchCV\n",
    "gridcv_lr = GridSearchCV(estimator=lr,cv=5,param_grid=lr_param_dict,scoring='recall')\n",
    "\n",
    "#Fit Gridsearch with balanced Classes\n",
    "model_lr = gridcv_lr.fit(X_train_bal,y_train_bal)\n",
    "\n",
    "#Best params\n",
    "best_params_lr = model_lr.best_params_\n",
    "\n",
    "#Best score\n",
    "best_score_lr = model_lr.best_score_\n",
    "\n",
    "#Mean test score\n",
    "mean_test_score_lr = model_lr.cv_results_['mean_test_score']\n",
    "\n",
    "\n",
    "print(f'best params: {best_params_lr}')\n",
    "print(f'best recall: {best_score_lr} \\n')\n",
    "print(f'mean_test_score: {mean_test_score_lr} \\n')\n",
    "\n",
    "\n",
    "####################################################################################\n",
    "\n",
    "#Set new experiment\n",
    "\n",
    "mlflow.set_experiment('Churn Prediction Telco Data')\n",
    "\n",
    "#start MlFlow run\n",
    "with mlflow.start_run():\n",
    "    mlflow.log_param(\"best_params\", best_params_lr)\n",
    "    mlflow.log_param(\"param_dict\", lr_param_dict)\n",
    "    mlflow.log_metric('recall', best_score_lr)  \n",
    "    mlflow.set_tag(\"Training Info\", \"GridSearchCV Log Regression\")\n",
    "\n",
    "    best_model_lr = model_lr.best_estimator_\n",
    "\n",
    "    # Infer signature\n",
    "    signature = infer_signature(X_train_bal, best_model_lr.predict(X_train_bal))\n",
    "\n",
    "    # Log Model\n",
    "    model_info_lr = mlflow.sklearn.log_model(\n",
    "        sk_model=best_model_lr,\n",
    "        artifact_path=\"Log Regression\",\n",
    "        signature=signature,\n",
    "        input_example=X_train_bal,\n",
    "        registered_model_name=\"Log Regression\",\n",
    "    )"
   ]
  },
  {
   "cell_type": "markdown",
   "metadata": {},
   "source": [
    "## 3.3 Model 2: K Nearest Neighbors"
   ]
  },
  {
   "cell_type": "code",
   "execution_count": 30,
   "metadata": {},
   "outputs": [
    {
     "data": {
      "text/plain": [
       "'\\nValidationCurveDisplay.from_estimator(\\n   KNeighborsClassifier(), X_train_bal, y_train_bal,\\n       param_name=\"n_neighbors\", param_range=[20,30,40,50,60,70,80,90,100],scoring=\\'recall\\')\\'\\n'"
      ]
     },
     "execution_count": 30,
     "metadata": {},
     "output_type": "execute_result"
    }
   ],
   "source": [
    "'''\n",
    "ValidationCurveDisplay.from_estimator(\n",
    "   KNeighborsClassifier(), X_train_bal, y_train_bal,\n",
    "       param_name=\"n_neighbors\", param_range=[20,30,40,50,60,70,80,90,100],scoring='recall')'\n",
    "'''"
   ]
  },
  {
   "cell_type": "code",
   "execution_count": 31,
   "metadata": {},
   "outputs": [
    {
     "name": "stdout",
     "output_type": "stream",
     "text": [
      "best params: {'leaf_size': 10, 'metric': 'euclidean', 'n_neighbors': 40, 'weights': 'uniform'}\n",
      "best recall: 0.8915204832086175 \n",
      "\n",
      "mean_test_score: [0.88089217 0.88065092 0.88306667 0.89152048 0.8439263  0.84706698\n",
      " 0.85141627 0.85866265 0.72892446 0.75670604 0.7644396  0.77410318] \n",
      "\n"
     ]
    },
    {
     "name": "stderr",
     "output_type": "stream",
     "text": [
      "Registered model 'KNN' already exists. Creating a new version of this model...\n",
      "2025/04/01 18:40:32 INFO mlflow.store.model_registry.abstract_store: Waiting up to 300 seconds for model version to finish creation. Model name: KNN, version 21\n"
     ]
    },
    {
     "name": "stdout",
     "output_type": "stream",
     "text": [
      "🏃 View run righteous-sponge-996 at: http://127.0.0.1:8080/#/experiments/213517147752326983/runs/dbd870bbaad04585b57b9410b5133b53\n",
      "🧪 View experiment at: http://127.0.0.1:8080/#/experiments/213517147752326983\n"
     ]
    },
    {
     "name": "stderr",
     "output_type": "stream",
     "text": [
      "Created version '21' of model 'KNN'.\n"
     ]
    }
   ],
   "source": [
    "#Instantiate KNN\n",
    "knn = KNeighborsClassifier()\n",
    "\n",
    "#Dictionary for hyperparameter tuning\n",
    "#neighbors_range = range(60,100)\n",
    "#knn_param_dict = {'n_neighbors':neighbors_range}\n",
    "\n",
    "knn_param_dict = {\n",
    "    'n_neighbors': [10,20,30,40],\n",
    "    'weights': ['uniform'], \n",
    "    'metric': ['euclidean', 'manhattan','hamming'],  \n",
    "    'leaf_size': [10]\n",
    "}\n",
    "\n",
    "#Instantiate GridsearchCV\n",
    "gridcv_knn = GridSearchCV(estimator=knn,cv=5,param_grid=knn_param_dict,scoring='recall',return_train_score=True)\n",
    "\n",
    "#Fit Gridsearch with training data\n",
    "model_knn = gridcv_knn.fit(X_train_bal,y_train_bal)\n",
    "\n",
    "#Best params\n",
    "best_params_knn = model_knn.best_params_\n",
    "\n",
    "#Best score\n",
    "best_score_knn = model_knn.best_score_\n",
    "\n",
    "#Mean test score\n",
    "mean_test_score_knn = model_knn.cv_results_['mean_test_score']\n",
    "\n",
    "\n",
    "print(f'best params: {best_params_knn}')\n",
    "print(f'best recall: {best_score_knn} \\n')\n",
    "print(f'mean_test_score: {mean_test_score_knn} \\n')\n",
    "\n",
    "\n",
    "####################################################################################\n",
    "\n",
    "\n",
    "#start MlFlow run\n",
    "with mlflow.start_run():\n",
    "    mlflow.log_param(\"best_params\", best_params_knn)\n",
    "    mlflow.log_param(\"param_dict\", knn_param_dict)\n",
    "    mlflow.log_metric('recall', best_score_knn)\n",
    "    mlflow.set_tag(\"Training Info\", \"GridSearchCV KNN\")\n",
    "\n",
    "    best_model_knn = model_knn.best_estimator_\n",
    "\n",
    "    # Infer signature\n",
    "    signature = infer_signature(X_train_bal, best_model_knn.predict(X_train_bal))\n",
    "\n",
    "    # Log Model\n",
    "    model_info_knn = mlflow.sklearn.log_model(\n",
    "        sk_model=best_model_knn,\n",
    "        artifact_path=\"KNN\",\n",
    "        signature=signature,\n",
    "        input_example=X_train_bal,\n",
    "        registered_model_name=\"KNN\",\n",
    "    )"
   ]
  },
  {
   "cell_type": "markdown",
   "metadata": {},
   "source": [
    "## 3.4 Model 3: Support Vector Machines"
   ]
  },
  {
   "cell_type": "code",
   "execution_count": 32,
   "metadata": {},
   "outputs": [
    {
     "name": "stdout",
     "output_type": "stream",
     "text": [
      "best params: {'C': 0.001, 'degree': 1, 'kernel': 'poly'}\n",
      "best recall: 0.9209955078889415 \n",
      "\n",
      "mean_test_score: [0.92099551 0.8323248  0.81879648] \n",
      "\n",
      "mean_train_score: [0.92093508 0.83093766 0.82175638]\n"
     ]
    },
    {
     "name": "stderr",
     "output_type": "stream",
     "text": [
      "Registered model 'SVM' already exists. Creating a new version of this model...\n",
      "2025/04/01 18:42:01 INFO mlflow.store.model_registry.abstract_store: Waiting up to 300 seconds for model version to finish creation. Model name: SVM, version 12\n"
     ]
    },
    {
     "name": "stdout",
     "output_type": "stream",
     "text": [
      "🏃 View run resilient-fly-993 at: http://127.0.0.1:8080/#/experiments/213517147752326983/runs/ba69d18bab2e435aa9d40637a4c82513\n",
      "🧪 View experiment at: http://127.0.0.1:8080/#/experiments/213517147752326983\n"
     ]
    },
    {
     "name": "stderr",
     "output_type": "stream",
     "text": [
      "Created version '12' of model 'SVM'.\n"
     ]
    }
   ],
   "source": [
    "#Instantiate Support Vector Classifier\n",
    "svm = SVC(probability=True)\n",
    "\n",
    "#Dictionary for hyperparameter tuning\n",
    "svm_param_dict = {\n",
    "    'C': [0.001,0.01,0.1],\n",
    "    'kernel': ['poly'],\n",
    "    'degree': [1]\n",
    "    }\n",
    "\n",
    "#Instantiate GridsearchCV\n",
    "gridcv_svm = GridSearchCV(estimator=svm,cv=5,param_grid=svm_param_dict,scoring='recall',return_train_score=True)\n",
    "\n",
    "#Fit Gridsearch with training data\n",
    "model_svm = gridcv_svm.fit(X_train_bal,y_train_bal)\n",
    "\n",
    "# Best params\n",
    "best_params_svm = model_svm.best_params_\n",
    "\n",
    "#Best score\n",
    "best_score_svm = model_svm.best_score_\n",
    "\n",
    "#Mean test score\n",
    "mean_test_score_svm = model_svm.cv_results_['mean_test_score']\n",
    "\n",
    "\n",
    "print(f'best params: {best_params_svm}')\n",
    "print(f'best recall: {best_score_svm} \\n')\n",
    "print(f'mean_test_score: {mean_test_score_svm} \\n')\n",
    "print(f'mean_train_score: {model_svm.cv_results_['mean_train_score']}')\n",
    "\n",
    "\n",
    "#############################################################################\n",
    "\n",
    "\n",
    "#start MlFlow run\n",
    "with mlflow.start_run():\n",
    "    mlflow.log_param(\"best_params\", best_params_svm)\n",
    "    mlflow.log_param(\"param_dict\", svm_param_dict)\n",
    "    mlflow.log_metric('recall', best_score_svm)\n",
    "    mlflow.set_tag(\"Training Info\", \"GridSearchCV SVM\")\n",
    "\n",
    "    best_model_svm = model_svm.best_estimator_\n",
    "\n",
    "    # Infer signature\n",
    "    signature = infer_signature(X_train_bal, best_model_svm.predict(X_train_bal))\n",
    "\n",
    "    # Log Model\n",
    "    model_info_svm = mlflow.sklearn.log_model(\n",
    "        sk_model=best_model_svm,\n",
    "        artifact_path=\"SVM\",\n",
    "        signature=signature,\n",
    "        input_example=X_train_bal,\n",
    "        registered_model_name=\"SVM\",\n",
    "    )"
   ]
  },
  {
   "cell_type": "markdown",
   "metadata": {},
   "source": [
    "## 3.5 Model 4: Random Forest"
   ]
  },
  {
   "cell_type": "code",
   "execution_count": 33,
   "metadata": {},
   "outputs": [
    {
     "name": "stdout",
     "output_type": "stream",
     "text": [
      "best params: {'max_depth': 10, 'max_features': 4, 'min_samples_leaf': 5}\n",
      "best recall: 0.8567308647167751 \n",
      "\n",
      "mean_test_score: [0.8311197  0.83015381 0.83039564 0.83039418 0.84005865 0.83957468\n",
      " 0.8419916  0.8393343  0.83401854 0.83329303 0.83256868 0.83232743\n",
      " 0.83426096 0.82918616 0.82701254 0.82387157 0.8311197  0.83015381\n",
      " 0.83039564 0.83039418 0.85503946 0.84344146 0.84005952 0.82169736\n",
      " 0.84779162 0.83450105 0.82604607 0.82266384 0.85431424 0.83788649\n",
      " 0.82991284 0.81493203 0.85673086 0.83981623 0.83377641 0.81662402\n",
      " 0.85503946 0.84344146 0.84005952 0.82169736 0.85117239 0.84223373\n",
      " 0.83571053 0.81855698 0.8470664  0.83570995 0.8258051  0.82363002\n",
      " 0.8504498  0.83160308 0.82169678 0.81251482 0.85165782 0.83691768\n",
      " 0.83111911 0.81614122 0.85117239 0.84223373 0.83571053 0.81855698\n",
      " 0.85358902 0.84247498 0.83619362 0.81855698 0.84730736 0.83450163\n",
      " 0.8258051  0.82363002 0.84972457 0.8323283  0.82169649 0.81251482\n",
      " 0.85045038 0.83667613 0.83087757 0.81614122 0.85358902 0.84247498\n",
      " 0.83619362 0.81855698] \n",
      "\n",
      "mean_test_score: [0.84344084 0.84054154 0.84108507 0.83909197 0.84803096 0.84646056\n",
      " 0.84640001 0.84386318 0.84126621 0.84036012 0.83915192 0.83637348\n",
      " 0.84307819 0.83987703 0.83504475 0.83087704 0.84344084 0.84054154\n",
      " 0.84108507 0.83909197 0.90227147 0.87581566 0.86119854 0.83891048\n",
      " 0.87992291 0.85606464 0.84036001 0.83033327 0.88837937 0.86252738\n",
      " 0.84911848 0.82544094 0.89454019 0.8702587  0.85594372 0.83214557\n",
      " 0.90227147 0.87581566 0.86119854 0.83891048 0.9145328  0.87605732\n",
      " 0.85691008 0.83727961 0.88777509 0.85811854 0.83872912 0.83093743\n",
      " 0.89502314 0.86325198 0.84470906 0.8256223  0.90498944 0.86965473\n",
      " 0.85600416 0.83111869 0.9145328  0.87605732 0.85691008 0.83727961\n",
      " 0.91380808 0.87581576 0.8570913  0.83727961 0.8898892  0.85757503\n",
      " 0.83872912 0.83093743 0.89496283 0.86174199 0.84470906 0.8256223\n",
      " 0.90535174 0.87074189 0.85558138 0.83111869 0.91380808 0.87581576\n",
      " 0.8570913  0.83727961] \n",
      "\n"
     ]
    },
    {
     "name": "stderr",
     "output_type": "stream",
     "text": [
      "Registered model 'Random Forest' already exists. Creating a new version of this model...\n",
      "2025/04/01 18:45:23 INFO mlflow.store.model_registry.abstract_store: Waiting up to 300 seconds for model version to finish creation. Model name: Random Forest, version 9\n"
     ]
    },
    {
     "name": "stdout",
     "output_type": "stream",
     "text": [
      "🏃 View run clumsy-shrew-748 at: http://127.0.0.1:8080/#/experiments/213517147752326983/runs/7360196972384f9bb9e77ba89865edb9\n",
      "🧪 View experiment at: http://127.0.0.1:8080/#/experiments/213517147752326983\n"
     ]
    },
    {
     "name": "stderr",
     "output_type": "stream",
     "text": [
      "Created version '9' of model 'Random Forest'.\n"
     ]
    }
   ],
   "source": [
    "#Instantiate Random Forest\n",
    "rf = RandomForestClassifier(n_jobs=-1,random_state=123)\n",
    "\n",
    "#Dictionary for hyperparameter tuning\n",
    "rf_param_dict = {\n",
    "    'max_depth': [5,10,20,30],\n",
    "    'min_samples_leaf':[5,10,15,30],\n",
    "    'max_features': ['sqrt',2,3,4,5]\n",
    "}\n",
    "\n",
    "#Instantiate GridsearchCV\n",
    "gridcv_rf = GridSearchCV(estimator=rf,cv=5,param_grid=rf_param_dict,scoring='recall',return_train_score=True)\n",
    "\n",
    "#Fit Gridsearch with training data\n",
    "model_rf = gridcv_rf.fit(X_train_bal,y_train_bal)\n",
    "\n",
    "#Best params\n",
    "best_params_rf = model_rf.best_params_\n",
    "\n",
    "#Best score\n",
    "best_score_rf = model_rf.best_score_\n",
    "\n",
    "#Mean test score\n",
    "mean_test_score_rf = model_rf.cv_results_['mean_test_score']\n",
    "\n",
    "\n",
    "print(f'best params: {best_params_rf}')\n",
    "print(f'best recall: {best_score_rf} \\n')\n",
    "print(f'mean_test_score: {mean_test_score_rf} \\n')\n",
    "print(f'mean_test_score: {model_rf.cv_results_['mean_train_score']} \\n')\n",
    "\n",
    "\n",
    "\n",
    "###################################################################################\n",
    "\n",
    "\n",
    "#start MlFlow run\n",
    "with mlflow.start_run():\n",
    "    mlflow.log_param(\"best_params\", best_params_rf)\n",
    "    mlflow.log_param(\"param_dict\", rf_param_dict)\n",
    "    mlflow.log_metric('recall', best_score_rf)  \n",
    "    mlflow.set_tag(\"Training Info\", \"GridSearchCV Random Forest\")\n",
    "\n",
    "    best_model_rf = model_rf.best_estimator_\n",
    "\n",
    "    # Infer signature\n",
    "    signature = infer_signature(X_train_bal, best_model_rf.predict(X_train_bal))\n",
    "\n",
    "    # Log Model\n",
    "    model_info_rf = mlflow.sklearn.log_model(\n",
    "        sk_model=best_model_rf,\n",
    "        artifact_path=\"Random Forest\",\n",
    "        signature=signature,\n",
    "        input_example=X_train_bal,\n",
    "        registered_model_name=\"Random Forest\"\n",
    "    )"
   ]
  },
  {
   "cell_type": "code",
   "execution_count": 34,
   "metadata": {},
   "outputs": [
    {
     "data": {
      "image/png": "[encoded data removed]",
      "text/plain": [
       "<Figure size 640x480 with 1 Axes>"
      ]
     },
     "metadata": {},
     "output_type": "display_data"
    }
   ],
   "source": [
    "rf_list = pd.DataFrame(zip(mean_test_score_rf,model_rf.cv_results_['mean_train_score']),columns=['Test','Train'])\n",
    "sns.boxplot(rf_list)\n",
    "plt.title('Random Forest Train/Test Score')\n",
    "plt.ylabel('score recall');"
   ]
  },
  {
   "cell_type": "markdown",
   "metadata": {},
   "source": [
    "# 4 Best Model"
   ]
  },
  {
   "cell_type": "code",
   "execution_count": 39,
   "metadata": {},
   "outputs": [
    {
     "name": "stdout",
     "output_type": "stream",
     "text": [
      "<bound method BaseEstimator.get_params of SVC(C=0.001, degree=1, kernel='poly', probability=True)>\n"
     ]
    }
   ],
   "source": [
    "#Load best model from mlflow\n",
    "best_model = mlflow.sklearn.load_model(f\"models:/SVM/12\")\n",
    "print(best_model.get_params)\n",
    "\n",
    "#training best model\n",
    "best_model_train = best_model.fit(X_train_bal,y_train_bal)\n",
    "\n",
    "#testing best model\n",
    "y_pred_best_model = best_model_train.predict(X_test)\n",
    "\n",
    "#Checking Overfitting\n",
    "y_pred_best_model_train = best_model_train.predict(X_train_bal)"
   ]
  },
  {
   "cell_type": "markdown",
   "metadata": {},
   "source": [
    "## 4.1 Evaluation"
   ]
  },
  {
   "cell_type": "code",
   "execution_count": 40,
   "metadata": {},
   "outputs": [
    {
     "data": {
      "image/png": "[encoded data removed]",
      "text/plain": [
       "<Figure size 640x480 with 2 Axes>"
      ]
     },
     "metadata": {},
     "output_type": "display_data"
    }
   ],
   "source": [
    "#Confusion Matrix\n",
    "cm = confusion_matrix(y_test, y_pred_best_model)\n",
    "disp = ConfusionMatrixDisplay(confusion_matrix=cm)\n",
    "disp.plot()\n",
    "plt.title('Confusion Matrix Best Model')\n",
    "plt.grid()"
   ]
  },
  {
   "cell_type": "code",
   "execution_count": 41,
   "metadata": {},
   "outputs": [
    {
     "name": "stdout",
     "output_type": "stream",
     "text": [
      "recall: 0.9029649595687331\n",
      "\n",
      "accuracy_score: 0.6692745376955903\n",
      "precision_score: 0.43848167539267013\n",
      "f1_score: 0.5903083700440529\n",
      "roc_auc_score: 0.7442361029727724\n"
     ]
    }
   ],
   "source": [
    "#Evaluation\n",
    "print('recall:',recall_score(y_test,y_pred_best_model))\n",
    "print('')\n",
    "print('accuracy_score:' ,accuracy_score(y_test,y_pred_best_model))\n",
    "print('precision_score:', precision_score(y_test,y_pred_best_model))\n",
    "print('f1_score:', f1_score(y_test,y_pred_best_model))\n",
    "print('roc_auc_score:', roc_auc_score(y_test,y_pred_best_model))"
   ]
  },
  {
   "cell_type": "code",
   "execution_count": 42,
   "metadata": {},
   "outputs": [
    {
     "name": "stdout",
     "output_type": "stream",
     "text": [
      "recall train: 0.902391882097125\n",
      "accuracy train: 0.7411210437303697\n"
     ]
    }
   ],
   "source": [
    "print('recall train:',recall_score(y_train_bal,y_pred_best_model_train))\n",
    "print('accuracy train:',accuracy_score(y_train_bal,y_pred_best_model_train))"
   ]
  }
 ],
 "metadata": {
  "kernelspec": {
   "display_name": "Python 3",
   "language": "python",
   "name": "python3"
  },
  "language_info": {
   "codemirror_mode": {
    "name": "ipython",
    "version": 3
   },
   "file_extension": ".py",
   "mimetype": "text/x-python",
   "name": "python",
   "nbconvert_exporter": "python",
   "pygments_lexer": "ipython3",
   "version": "3.12.2"
  }
 },
 "nbformat": 4,
 "nbformat_minor": 2
}
