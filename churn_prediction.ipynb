{
 "cells": [
  {
   "cell_type": "markdown",
   "metadata": {},
   "source": [
    "### Still in progress!"
   ]
  },
  {
   "cell_type": "code",
   "execution_count": null,
   "metadata": {},
   "outputs": [],
   "source": [
    "import pandas as pd\n",
    "import numpy as np\n",
    "import matplotlib.pyplot as plt\n",
    "import seaborn as sns\n",
    "sns.set_theme()\n",
    "import warnings\n",
    "warnings.simplefilter(action='ignore', category=FutureWarning)"
   ]
  },
  {
   "cell_type": "code",
   "execution_count": 6,
   "metadata": {},
   "outputs": [],
   "source": [
    "data_ml = pd.read_csv('data_ml.csv')"
   ]
  },
  {
   "cell_type": "markdown",
   "metadata": {},
   "source": [
    "# 1 Data Inspection"
   ]
  },
  {
   "cell_type": "code",
   "execution_count": 7,
   "metadata": {},
   "outputs": [
    {
     "name": "stdout",
     "output_type": "stream",
     "text": [
      "<class 'pandas.core.frame.DataFrame'>\n",
      "RangeIndex: 7030 entries, 0 to 7029\n",
      "Data columns (total 21 columns):\n",
      " #   Column            Non-Null Count  Dtype  \n",
      "---  ------            --------------  -----  \n",
      " 0   Unnamed: 0        7030 non-null   int64  \n",
      " 1   gender            7030 non-null   object \n",
      " 2   SeniorCitizen     7030 non-null   object \n",
      " 3   Partner           7030 non-null   object \n",
      " 4   Dependents        7030 non-null   object \n",
      " 5   tenure            7030 non-null   int64  \n",
      " 6   PhoneService      7030 non-null   object \n",
      " 7   MultipleLines     7030 non-null   object \n",
      " 8   InternetService   7030 non-null   object \n",
      " 9   OnlineSecurity    7030 non-null   object \n",
      " 10  OnlineBackup      7030 non-null   object \n",
      " 11  DeviceProtection  7030 non-null   object \n",
      " 12  TechSupport       7030 non-null   object \n",
      " 13  StreamingTV       7030 non-null   object \n",
      " 14  StreamingMovies   7030 non-null   object \n",
      " 15  Contract          7030 non-null   object \n",
      " 16  PaperlessBilling  7030 non-null   object \n",
      " 17  PaymentMethod     7030 non-null   object \n",
      " 18  MonthlyCharges    7030 non-null   float64\n",
      " 19  TotalCharges      7030 non-null   float64\n",
      " 20  Churn             7030 non-null   object \n",
      "dtypes: float64(2), int64(2), object(17)\n",
      "memory usage: 1.1+ MB\n"
     ]
    }
   ],
   "source": [
    "data_ml.info()"
   ]
  },
  {
   "cell_type": "code",
   "execution_count": 8,
   "metadata": {},
   "outputs": [
    {
     "name": "stdout",
     "output_type": "stream",
     "text": [
      "gender ['Female' 'Male']\n",
      "SeniorCitizen ['No' 'Yes']\n",
      "Partner ['Yes' 'No']\n",
      "Dependents ['No' 'Yes']\n",
      "PhoneService ['No' 'Yes']\n",
      "MultipleLines ['No phone service' 'No' 'Yes']\n",
      "InternetService ['DSL' 'Fiber optic' 'No']\n",
      "OnlineSecurity ['No' 'Yes' 'No internet service']\n",
      "OnlineBackup ['Yes' 'No' 'No internet service']\n",
      "DeviceProtection ['No' 'Yes' 'No internet service']\n",
      "TechSupport ['No' 'Yes' 'No internet service']\n",
      "StreamingTV ['No' 'Yes' 'No internet service']\n",
      "StreamingMovies ['No' 'Yes' 'No internet service']\n",
      "Contract ['Month-to-month' 'One year' 'Two year']\n",
      "PaperlessBilling ['Yes' 'No']\n",
      "PaymentMethod ['Electronic check' 'Mailed check' 'Bank transfer (automatic)'\n",
      " 'Credit card (automatic)']\n",
      "Churn ['No' 'Yes']\n"
     ]
    }
   ],
   "source": [
    "#Checking levels of categorical features\n",
    "for i in data_ml.columns:\n",
    "    if data_ml[i].dtype == 'object':\n",
    "        print(f'{i} {data_ml[i].unique()}')"
   ]
  },
  {
   "cell_type": "markdown",
   "metadata": {},
   "source": [
    "# 2 Feature Engineering"
   ]
  },
  {
   "cell_type": "markdown",
   "metadata": {},
   "source": [
    "The dataset was partially processed during the exploratory data analysis (Part 1): Datatypes were changed. Redundant variables were deletet, outliers were and missing values were transformed (-> see Part 1: Exploratory Data Analysis)"
   ]
  },
  {
   "cell_type": "markdown",
   "metadata": {},
   "source": [
    "## 2.1 Delete redundant variable"
   ]
  },
  {
   "cell_type": "code",
   "execution_count": 9,
   "metadata": {},
   "outputs": [],
   "source": [
    "#Delete first column\n",
    "data_ml = data_ml.iloc[:,1:]"
   ]
  },
  {
   "cell_type": "markdown",
   "metadata": {},
   "source": [
    "## 2.2 One Hot Encoding"
   ]
  },
  {
   "cell_type": "code",
   "execution_count": 10,
   "metadata": {},
   "outputs": [],
   "source": [
    "from sklearn.preprocessing import OneHotEncoder\n",
    "\n",
    "#Seperate data into categorical features and numerical features \n",
    "data_cat = data_ml.select_dtypes(include=['object','category']).copy()\n",
    "data_num = data_ml.select_dtypes(include=['float64','int64']).copy()\n",
    "\n",
    "ohe = OneHotEncoder()\n",
    "\n",
    "#instantiate and fit One Hot Encoder with categorical features\n",
    "ohe = OneHotEncoder(drop='first', sparse_output=False)\n",
    "data_cat_encoded = ohe.fit_transform(data_cat)\n",
    "\n",
    "#Generate Dataframe with encoded categorical features\n",
    "feature_names = ohe.get_feature_names_out(input_features=data_cat.columns)\n",
    "data_cat_df = pd.DataFrame(data_cat_encoded, columns=feature_names, index=data_cat.index)\n",
    "\n",
    "#Concat encoded categorical features with numerical features\n",
    "data_trans = pd.concat([data_cat_df, data_num], axis=1)"
   ]
  },
  {
   "cell_type": "markdown",
   "metadata": {},
   "source": [
    "## 2.3 Train Test Split"
   ]
  },
  {
   "cell_type": "code",
   "execution_count": 11,
   "metadata": {},
   "outputs": [],
   "source": [
    "from sklearn.model_selection import train_test_split\n",
    "\n",
    "#Train/Test Split\n",
    "X = data_trans.drop(columns='Churn_Yes')\n",
    "y = data_trans['Churn_Yes']\n",
    "X_train, X_test, y_train, y_test = train_test_split(X,y,test_size=0.2,stratify=y,random_state=123)"
   ]
  },
  {
   "cell_type": "code",
   "execution_count": 12,
   "metadata": {},
   "outputs": [
    {
     "name": "stdout",
     "output_type": "stream",
     "text": [
      "y_train Churn_Yes\n",
      "0.0    0.735953\n",
      "1.0    0.264047\n",
      "Name: proportion, dtype: float64\n",
      "\n",
      "y_test Churn_Yes\n",
      "0.0    0.736131\n",
      "1.0    0.263869\n",
      "Name: proportion, dtype: float64\n"
     ]
    }
   ],
   "source": [
    "# Check Stratify\n",
    "print('y_train',y_train.value_counts(normalize=True))\n",
    "print('')\n",
    "print('y_test',y_test.value_counts(normalize=True))"
   ]
  },
  {
   "cell_type": "markdown",
   "metadata": {},
   "source": [
    "## 2.4 Quantile Transforming"
   ]
  },
  {
   "cell_type": "markdown",
   "metadata": {},
   "source": [
    "Quantile transformation of the features 'MonthlyCharges' and 'Total Charges' and 'tenure\n",
    ".fit_transform of X_train and .transform of X_test to avoid data leakage"
   ]
  },
  {
   "cell_type": "code",
   "execution_count": 13,
   "metadata": {},
   "outputs": [
    {
     "data": {
      "image/png": "[encoded data removed]",
      "text/plain": [
       "<Figure size 1200x400 with 3 Axes>"
      ]
     },
     "metadata": {},
     "output_type": "display_data"
    }
   ],
   "source": [
    "#Plot original distribution of Monthly and Total Charges\n",
    "\n",
    "def dist_before_quantile():\n",
    "\n",
    "    fig, ax = plt.subplots(1,3,figsize=(12,4))\n",
    "\n",
    "    #Subplot 1: Monthlycharges\n",
    "    data_ml.MonthlyCharges.hist(ax=ax[0],histtype='step',fill=True,alpha=0.8)\n",
    "    ax[0].set_title('Original Distribution MonthlyCharges')\n",
    "    ax[0].set_xlabel('MonthlyCharges')\n",
    "    ax[0].set_ylabel=('Count')\n",
    "\n",
    "    #Subplot 2: Totalcharges\n",
    "    data_ml.TotalCharges.hist(ax=ax[1],histtype='step',fill=True,alpha=0.8)\n",
    "    ax[1].set_title('Original Distribution TotalCharges')\n",
    "    ax[1].set_xlabel('TotalCharges')\n",
    "    ax[1].set_ylabel=('Count')\n",
    "\n",
    "    #Subplot 3: tenure\n",
    "    data_ml.tenure.hist(ax=ax[2],histtype='step',fill=True,alpha=0.8)\n",
    "    ax[2].set_title('Original Distribution tenure')\n",
    "    ax[2].set_xlabel('tenure')\n",
    "    ax[2].set_ylabel=('Count')\n",
    "\n",
    "    plt.tight_layout()\n",
    "\n",
    "dist_before_quantile()"
   ]
  },
  {
   "cell_type": "code",
   "execution_count": 14,
   "metadata": {},
   "outputs": [],
   "source": [
    "#Quantile Transforming\n",
    "\n",
    "from sklearn.preprocessing import QuantileTransformer\n",
    "\n",
    "#Instantiate Quantile Transformer\n",
    "quantile_normal = QuantileTransformer(output_distribution='normal')\n",
    "\n",
    "# Fit Transform X_train\n",
    "X_train[['MonthlyCharges','TotalCharges','tenure']] = quantile_normal.fit_transform(X_train[['MonthlyCharges','TotalCharges','tenure']])\n",
    "\n",
    "#Transform X_test\n",
    "X_test[['MonthlyCharges','TotalCharges','tenure']] = quantile_normal.transform(X_test[['MonthlyCharges','TotalCharges','tenure']])"
   ]
  },
  {
   "cell_type": "code",
   "execution_count": 15,
   "metadata": {},
   "outputs": [
    {
     "data": {
      "image/png": "[encoded data removed]",
      "text/plain": [
       "<Figure size 1200x400 with 3 Axes>"
      ]
     },
     "metadata": {},
     "output_type": "display_data"
    }
   ],
   "source": [
    "#Plot distribution after transforming\n",
    "\n",
    "def dist_after_quantile():\n",
    "    fig, ax = plt.subplots(1,3,figsize=(12,4))\n",
    "\n",
    "    #Subplot 1: transformed MonthlyCharges\n",
    "    sns.histplot(X_train.MonthlyCharges,ax=ax[0])\n",
    "    ax[0].set_title('Distribution MonthlyCharges after transforming')\n",
    "    ax[0].set_xlabel('MonthlyCharges')\n",
    "    ax[0].set_ylabel=('Count')\n",
    "\n",
    "    #Subplot 2: transformed TotalCharges\n",
    "    sns.histplot(X_train.TotalCharges,ax=ax[1])\n",
    "    ax[1].set_title('Distribution TotalCharges after transforming')\n",
    "    ax[1].set_xlabel('TotalCharges')\n",
    "    ax[1].set_ylabel=('Count')\n",
    "\n",
    "    #Subplot 3: transformed tenure\n",
    "    sns.histplot(X_train.tenure,ax=ax[2])\n",
    "    ax[2].set_title('Distribution tenure after transforming')\n",
    "    ax[2].set_xlabel('tenure')\n",
    "    ax[2].set_ylabel=('Count')\n",
    "\n",
    "    plt.tight_layout()\n",
    "\n",
    "dist_after_quantile()"
   ]
  },
  {
   "cell_type": "markdown",
   "metadata": {},
   "source": [
    "## 2.5 Class Balancing"
   ]
  },
  {
   "cell_type": "code",
   "execution_count": 16,
   "metadata": {},
   "outputs": [
    {
     "data": {
      "text/plain": [
       "Churn\n",
       "No     0.735989\n",
       "Yes    0.264011\n",
       "Name: proportion, dtype: float64"
      ]
     },
     "execution_count": 16,
     "metadata": {},
     "output_type": "execute_result"
    }
   ],
   "source": [
    "#Original Distribution target 'Churn'\n",
    "data_ml.Churn.value_counts(normalize=True)"
   ]
  },
  {
   "cell_type": "code",
   "execution_count": 17,
   "metadata": {},
   "outputs": [],
   "source": [
    "#Oversampling/Undersampling\n",
    "from imblearn.over_sampling import SMOTE\n",
    "from imblearn.under_sampling import RandomUnderSampler\n",
    "from imblearn.pipeline import Pipeline\n",
    "\n",
    "over = SMOTE()\n",
    "under = RandomUnderSampler()\n",
    "steps = [('o',over),('u',under)]\n",
    "pipeline = Pipeline(steps=steps)\n",
    "X_train_bal, y_train_bal = pipeline.fit_resample(X_train,y_train)\n",
    "\n",
    "\n",
    "#https://machinelearningmastery.com/smote-oversampling-for-imbalanced-classification/"
   ]
  },
  {
   "cell_type": "code",
   "execution_count": 18,
   "metadata": {},
   "outputs": [
    {
     "data": {
      "text/plain": [
       "Churn_Yes\n",
       "0.0    4139\n",
       "1.0    4139\n",
       "Name: count, dtype: int64"
      ]
     },
     "execution_count": 18,
     "metadata": {},
     "output_type": "execute_result"
    }
   ],
   "source": [
    "y_train_bal.value_counts()"
   ]
  },
  {
   "cell_type": "markdown",
   "metadata": {},
   "source": [
    "# 3 Training"
   ]
  },
  {
   "cell_type": "code",
   "execution_count": null,
   "metadata": {},
   "outputs": [],
   "source": [
    "from sklearn import metrics\n",
    "from sklearn.metrics import ConfusionMatrixDisplay, confusion_matrix,classification_report\n",
    "from sklearn.model_selection import GridSearchCV\n",
    "from mlxtend.feature_selection import SequentialFeatureSelector\n",
    "from mlxtend.plotting import plot_sequential_feature_selection as plot_sfs\n",
    "from sklearn.linear_model import LogisticRegression\n",
    "from sklearn.neighbors import KNeighborsClassifier\n",
    "from sklearn.svm import SVC\n",
    "from sklearn.ensemble import RandomForestClassifier\n",
    "from sklearn.metrics import accuracy_score,recall_score,precision_score,f1_score,roc_auc_score\n",
    "from sklearn.model_selection import ValidationCurveDisplay\n",
    "\n",
    "import mlflow\n",
    "from mlflow.models.signature import infer_signature\n",
    "mlflow.set_tracking_uri(uri='http://127.0.0.1:8080')"
   ]
  },
  {
   "cell_type": "markdown",
   "metadata": {},
   "source": [
    "## 3.1 Metric"
   ]
  },
  {
   "cell_type": "markdown",
   "metadata": {},
   "source": [
    "Goal is to keep as much as customers as possible. Therefore, recall is the best metric for this. It answers the question, how good the model is in predicting customers which are truly churned.\n",
    "\n",
    "Recall (True Positive Rate) = True Positives / True Positives + False Negative"
   ]
  },
  {
   "cell_type": "markdown",
   "metadata": {},
   "source": [
    "## 3.2 Model 1: Logistic Regression"
   ]
  },
  {
   "cell_type": "code",
   "execution_count": null,
   "metadata": {},
   "outputs": [
    {
     "name": "stdout",
     "output_type": "stream",
     "text": [
      "best params: {'C': 0.1, 'penalty': 'l1'}\n",
      "best recall: 0.8175893310901985 \n",
      "\n",
      "[0.71659511 0.81662198 0.81493291 0.81058246 0.81758933 0.81396556]\n"
     ]
    }
   ],
   "source": [
    "#Instantiate LogisticRegression\n",
    "lr = LogisticRegression(solver='saga',max_iter=1000)\n",
    "\n",
    "#Dictionary for hyperparameter tuning\n",
    "lr_param_dict = {'penalty':['l1','l2'],\n",
    "                 'C':[0.001, 0.01, 0.1]}\n",
    "\n",
    "#Instantiate GridsearchCV\n",
    "gridcv_lr = GridSearchCV(estimator=lr,cv=5,param_grid=lr_param_dict,scoring='recall')\n",
    "\n",
    "#Fit Gridsearch with balanced Classes\n",
    "model_lr = gridcv_lr.fit(X_train_bal,y_train_bal)\n",
    "\n",
    "#Best params\n",
    "best_params_lr = model_lr.best_params_\n",
    "\n",
    "#Best score\n",
    "best_score_lr = model_lr.best_score_\n",
    "\n",
    "#Mean test score\n",
    "mean_test_score_lr = model_lr.cv_results_['mean_test_score']\n",
    "\n",
    "\n",
    "print(f'best params: {best_params_lr}')\n",
    "print(f'best recall: {best_score_lr} \\n')\n",
    "print(f'mean_test_score: {mean_test_score_lr} \\n')\n",
    "\n",
    "\n",
    "####################################################################################\n",
    "\n",
    "#Set new experiment\n",
    "\n",
    "def mlflow_tracking():\n",
    "    mlflow.set_experiment('Churn Prediction Telco')\n",
    "\n",
    "    #start MlFlow run\n",
    "    with mlflow.start_run():\n",
    "        mlflow.log_param(\"lr_params\", lr_param_dict)\n",
    "        mlflow.log_metric('recall', best_score_lr)  \n",
    "        mlflow.set_tag(\"Training Info\", \"GridSearchCV Log Regression\")\n",
    "\n",
    "        best_model_lr = model_lr.best_estimator_\n",
    "\n",
    "        # Infer signature\n",
    "        signature = infer_signature(X_train_bal, best_model_lr.predict(X_train_bal))\n",
    "\n",
    "        # Log Model\n",
    "        model_info = mlflow.sklearn.log_model(\n",
    "            sk_model=best_model_lr,\n",
    "            artifact_path=\"Log Regression\",\n",
    "            signature=signature,\n",
    "            input_example=X_train_bal,\n",
    "            registered_model_name=\"Log Regression\",\n",
    "        )\n",
    "\n",
    "#Execute function\n",
    "mlflow_tracking()"
   ]
  },
  {
   "cell_type": "markdown",
   "metadata": {},
   "source": [
    "## 3.3 Model 2: K Nearest Neighbors"
   ]
  },
  {
   "cell_type": "code",
   "execution_count": 1,
   "metadata": {},
   "outputs": [
    {
     "data": {
      "text/plain": [
       "'\\nValidationCurveDisplay.from_estimator(\\n   KNeighborsClassifier(), X_train_bal, y_train_bal,\\n       param_name=\"n_neighbors\", param_range=[20,30,40,50,60,70,80,90,100],scoring=\\'recall\\')\\'\\n'"
      ]
     },
     "execution_count": 1,
     "metadata": {},
     "output_type": "execute_result"
    }
   ],
   "source": [
    "'''\n",
    "ValidationCurveDisplay.from_estimator(\n",
    "   KNeighborsClassifier(), X_train_bal, y_train_bal,\n",
    "       param_name=\"n_neighbors\", param_range=[20,30,40,50,60,70,80,90,100],scoring='recall')'\n",
    "'''"
   ]
  },
  {
   "cell_type": "code",
   "execution_count": null,
   "metadata": {},
   "outputs": [
    {
     "name": "stdout",
     "output_type": "stream",
     "text": [
      "best params: {'metric': 'euclidean', 'n_neighbors': 99}\n",
      "best recall: 0.8994917897762124 \n",
      "\n",
      "mean_test_score: [0.8917632  0.89611132 0.89248696 0.89731963 0.89297034 0.89731875\n",
      " 0.89369469 0.89828552 0.8944202  0.89780184 0.89393653 0.89611044\n",
      " 0.89297005 0.89731934 0.89272821 0.89611015 0.89296976 0.8958686\n",
      " 0.89417749 0.89707691 0.89514426 0.8975603  0.89562735 0.89876774\n",
      " 0.89538551 0.8975603  0.89562706 0.89755971 0.89562647 0.89755942\n",
      " 0.89635169 0.89804281 0.89659295 0.89828435 0.89514367 0.89852561\n",
      " 0.89635111 0.89876715 0.89659295 0.89949179 0.86180391 0.8678449\n",
      " 0.86252943 0.86905292 0.86204663 0.86712114 0.86252972 0.86784548\n",
      " 0.86422083 0.86881108 0.86446179 0.86905233 0.86518731 0.86929446\n",
      " 0.86591224 0.87026123 0.86639504 0.86905292 0.86663688 0.87098499\n",
      " 0.86663688 0.8700191  0.86760306 0.87026065 0.86663658 0.87122654\n",
      " 0.8683277  0.87219301 0.86832799 0.87364258 0.87098529 0.87388442\n",
      " 0.87074403 0.87412597 0.87098558 0.8748506  0.87098587 0.8748509\n",
      " 0.87146867 0.87509273 0.79174188 0.80068229 0.79149945 0.79826478\n",
      " 0.7927066  0.79995619 0.79464043 0.80261319 0.79560632 0.80454585\n",
      " 0.79633066 0.80333754 0.79560544 0.8047874  0.79898942 0.80648114\n",
      " 0.79899059 0.80599805 0.80044016 0.80696365 0.80406422 0.80865505\n",
      " 0.80092179 0.80865418 0.80261261 0.80696277 0.8009215  0.80720461\n",
      " 0.8014043  0.80647939 0.80116304 0.80599484 0.80164613 0.80672152\n",
      " 0.80164584 0.80478711 0.80188739 0.80817079 0.80333754 0.80599571] \n",
      "\n"
     ]
    }
   ],
   "source": [
    "#Instantiate KNN\n",
    "knn = KNeighborsClassifier()\n",
    "\n",
    "#Dictionary for hyperparameter tuning\n",
    "neighbors_range = range(60,100)\n",
    "#knn_param_dict = {'n_neighbors':neighbors_range}\n",
    "\n",
    "knn_param_dict = {\n",
    "    'n_neighbors': neighbors_range,\n",
    "    #'weights': ['uniform', 'distance'],  \n",
    "    'metric': ['euclidean', 'manhattan','hamming'],  \n",
    "    #'leaf_size': [10, 20, 30],\n",
    "}\n",
    "\n",
    "#Instantiate GridsearchCV\n",
    "gridcv_knn = GridSearchCV(estimator=knn,cv=5,param_grid=knn_param_dict,scoring='recall')  #return_train_score=True\n",
    "\n",
    "#Fit Gridsearch with training data\n",
    "model_knn = gridcv_knn.fit(X_train_bal,y_train_bal)\n",
    "\n",
    "#Best params\n",
    "best_params_knn = model_knn.best_params_\n",
    "\n",
    "#Best score\n",
    "best_score_knn = model_knn.best_score_\n",
    "\n",
    "#Mean test score\n",
    "mean_test_score_knn = model_knn.cv_results_['mean_test_score']\n",
    "\n",
    "\n",
    "print(f'best params: {best_params_knn}')\n",
    "print(f'best recall: {best_score_knn} \\n')\n",
    "print(f'mean_test_score: {mean_test_score_knn} \\n')\n",
    "\n",
    "\n",
    "####################################################################################\n",
    "\n",
    "#Set new experiment\n",
    "\n",
    "def mlflow_tracking():\n",
    "    mlflow.set_experiment('Churn Prediction Telco')\n",
    "\n",
    "    #start MlFlow run\n",
    "    with mlflow.start_run():\n",
    "        mlflow.log_param(\"knn_params\", knn_param_dict)\n",
    "        mlflow.log_metric('recall', best_score_knn)  \n",
    "        mlflow.set_tag(\"Training Info\", \"GridSearchCV KNN\")\n",
    "\n",
    "        best_model_knn = model_knn.best_estimator_\n",
    "\n",
    "        # Infer signature\n",
    "        signature = infer_signature(X_train_bal, best_model_knn.predict(X_train_bal))\n",
    "\n",
    "        # Log Model\n",
    "        model_info = mlflow.sklearn.log_model(\n",
    "            sk_model=best_model_knn,\n",
    "            artifact_path=\"KNN\",\n",
    "            signature=signature,\n",
    "            input_example=X_train_bal,\n",
    "            registered_model_name=\"KNN\",\n",
    "        )\n",
    "\n",
    "#Execute function\n",
    "mlflow_tracking()"
   ]
  },
  {
   "cell_type": "markdown",
   "metadata": {},
   "source": [
    "## 3.4 Model 3: Support Vector Machines"
   ]
  },
  {
   "cell_type": "code",
   "execution_count": null,
   "metadata": {},
   "outputs": [
    {
     "name": "stdout",
     "output_type": "stream",
     "text": [
      "best params: {'C': 0.1, 'gamma': 'scale', 'kernel': 'linear'}\n",
      "best recall: 0.8277351348509543 \n",
      "\n",
      "[0.82000245 0.79729334 0.82000245 0.80550736 0.82773513 0.80937151\n",
      " 0.82773513 0.81058012]\n"
     ]
    }
   ],
   "source": [
    "#Instantiate Support Vector Classifier\n",
    "svm = SVC(probability=True)\n",
    "\n",
    "#Dictionary for hyperparameter tuning\n",
    "svm_param_dict = {\n",
    "    'C': [0.01,0.1], #0.001 removed\n",
    "    'kernel': ['linear','rbf'], #poly removed to save runtime\n",
    "    'gamma': ['scale', 'auto']} #0.1 and 0.001 removed\n",
    "\n",
    "#Instantiate GridsearchCV\n",
    "gridcv_svm = GridSearchCV(estimator=svm,cv=5,param_grid=svm_param_dict,scoring='recall')\n",
    "\n",
    "#Fit Gridsearch with training data\n",
    "model_svm = gridcv_svm.fit(X_train_bal,y_train_bal)\n",
    "\n",
    "# Best params\n",
    "best_params_svm = model_svm.best_params_\n",
    "\n",
    "#Best score\n",
    "best_score_svm = model_svm.best_score_\n",
    "\n",
    "#Mean test score\n",
    "mean_test_score_svm = model_svm.cv_results_['mean_test_score']\n",
    "\n",
    "\n",
    "print(f'best params: {best_params_svm}')\n",
    "print(f'best recall: {best_score_svm} \\n')\n",
    "print(f'mean_test_score: {mean_test_score_svm} \\n')\n",
    "\n",
    "\n",
    "#############################################################################\n",
    "\n",
    "#Set new experiment\n",
    "\n",
    "def mlflow_tracking():\n",
    "    mlflow.set_experiment('Churn Prediction Telco')\n",
    "\n",
    "    #start MlFlow run\n",
    "    with mlflow.start_run():\n",
    "        mlflow.log_param(\"svm_params\", svm_param_dict)\n",
    "        mlflow.log_metric('recall', best_score_svm)  \n",
    "        mlflow.set_tag(\"Training Info\", \"GridSearchCV SVM\")\n",
    "\n",
    "        best_model_svm = model_svm.best_estimator_\n",
    "\n",
    "        # Infer signature\n",
    "        signature = infer_signature(X_train_bal, best_model_svm.predict(X_train_bal))\n",
    "\n",
    "        # Log Model\n",
    "        model_info = mlflow.sklearn.log_model(\n",
    "            sk_model=best_model_svm,\n",
    "            artifact_path=\"SVM\",\n",
    "            signature=signature,\n",
    "            input_example=X_train_bal,\n",
    "            registered_model_name=\"SVM\",\n",
    "        )\n",
    "\n",
    "#Execute function\n",
    "mlflow_tracking()"
   ]
  },
  {
   "cell_type": "markdown",
   "metadata": {},
   "source": [
    "## 3.5 Model 4: Random Forest"
   ]
  },
  {
   "cell_type": "code",
   "execution_count": null,
   "metadata": {},
   "outputs": [
    {
     "name": "stderr",
     "output_type": "stream",
     "text": [
      "2025/03/27 11:17:42 INFO mlflow.tracking.fluent: Experiment with name 'Churn Prediction Telco' does not exist. Creating a new experiment.\n"
     ]
    },
    {
     "name": "stdout",
     "output_type": "stream",
     "text": [
      "best params: {'max_depth': 10, 'max_features': 2, 'min_samples_leaf': 15}\n",
      "best recall: 0.8318443357926035 \n",
      "\n",
      "mean_test_score: [0.83184434 0.82628936 0.8262879  0.8185561  0.82459445 0.81710536\n",
      " 0.82918558 0.81758933 0.82773806 0.82822261 0.82411341 0.81831543\n",
      " 0.82338877 0.8134813  0.82459562 0.81589851] \n",
      "\n"
     ]
    },
    {
     "name": "stderr",
     "output_type": "stream",
     "text": [
      "Registered model 'Random Forest' already exists. Creating a new version of this model...\n",
      "2025/03/27 11:17:47 INFO mlflow.store.model_registry.abstract_store: Waiting up to 300 seconds for model version to finish creation. Model name: Random Forest, version 5\n"
     ]
    },
    {
     "name": "stdout",
     "output_type": "stream",
     "text": [
      "🏃 View run thoughtful-goose-406 at: http://127.0.0.1:8080/#/experiments/771685581311785134/runs/c050a73662e4412dac326ecc928c1984\n",
      "🧪 View experiment at: http://127.0.0.1:8080/#/experiments/771685581311785134\n"
     ]
    },
    {
     "name": "stderr",
     "output_type": "stream",
     "text": [
      "Created version '5' of model 'Random Forest'.\n"
     ]
    }
   ],
   "source": [
    "#Instantiate Random Forest\n",
    "rf = RandomForestClassifier(n_jobs=-1,random_state=123)\n",
    "\n",
    "#Dictionary for hyperparameter tuning\n",
    "rf_param_dict = {\n",
    "    'max_depth': [10,20],\n",
    "    'min_samples_leaf':[15,30],  #15,30\n",
    "    'max_features': [2,3,4,5] #mtry #sqrt\n",
    "}\n",
    "\n",
    "#Instantiate GridsearchCV\n",
    "gridcv_rf = GridSearchCV(estimator=rf,cv=5,param_grid=rf_param_dict,scoring='recall')\n",
    "\n",
    "#Fit Gridsearch with training data\n",
    "model_rf = gridcv_rf.fit(X_train_bal,y_train_bal)\n",
    "\n",
    "#Best params\n",
    "best_params_rf = model_rf.best_params_\n",
    "\n",
    "#Best score\n",
    "best_score_rf = model_rf.best_score_\n",
    "\n",
    "#Mean test score\n",
    "mean_test_score_rf = model_rf.cv_results_['mean_test_score']\n",
    "\n",
    "\n",
    "print(f'best params: {best_params_rf}')\n",
    "print(f'best recall: {best_score_rf} \\n')\n",
    "print(f'mean_test_score: {mean_test_score_rf} \\n')\n",
    "\n",
    "\n",
    "###################################################################################\n",
    "\n",
    "#MLFlow experiment tracking\n",
    "\n",
    "def mflow_tracking():\n",
    "\n",
    "    #Set new experiment\n",
    "    mlflow.set_experiment('Churn Prediction Telco')\n",
    "\n",
    "    #start MlFlow run\n",
    "    with mlflow.start_run():\n",
    "        mlflow.log_param(\"rf_params\", best_params_rf)\n",
    "        mlflow.log_metric('recall', best_score_rf)  \n",
    "        mlflow.set_tag(\"Training Info\", \"GridSearchCV Random Forest\")\n",
    "\n",
    "        best_model_rf = model_rf.best_estimator_\n",
    "\n",
    "        # Infer signature\n",
    "        signature = infer_signature(X_train_bal, best_model_rf.predict(X_train_bal))\n",
    "\n",
    "        # Log Model\n",
    "        model_info = mlflow.sklearn.log_model(\n",
    "            sk_model=best_model_rf,\n",
    "            artifact_path=\"Random Forest\",\n",
    "            signature=signature,\n",
    "            input_example=X_train_bal,\n",
    "            registered_model_name=\"Random Forest\"\n",
    "        )\n",
    "\n",
    "#Execute function\n",
    "mflow_tracking()"
   ]
  },
  {
   "cell_type": "markdown",
   "metadata": {},
   "source": [
    "# 4 Best Model"
   ]
  },
  {
   "cell_type": "markdown",
   "metadata": {},
   "source": [
    "## 4.1 Testing"
   ]
  },
  {
   "cell_type": "code",
   "execution_count": null,
   "metadata": {},
   "outputs": [
    {
     "name": "stdout",
     "output_type": "stream",
     "text": [
      "recall: 0.8733153638814016\n",
      "\n",
      "accuracy_score: 0.7034139402560455\n",
      "precision_score: 0.4668587896253602\n",
      "f1_score: 0.6084507042253521\n",
      "roc_auc_score: 0.7579137205880438\n"
     ]
    }
   ],
   "source": [
    "#Test best model\n",
    "y_pred_best_model = model_knn.predict(X_test)"
   ]
  },
  {
   "cell_type": "markdown",
   "metadata": {},
   "source": [
    "## 4.2 Evaluation"
   ]
  },
  {
   "cell_type": "code",
   "execution_count": 38,
   "metadata": {},
   "outputs": [
    {
     "data": {
      "image/png": "[encoded data removed]",
      "text/plain": [
       "<Figure size 640x480 with 2 Axes>"
      ]
     },
     "metadata": {},
     "output_type": "display_data"
    }
   ],
   "source": [
    "#Confusion Matrix\n",
    "cm = confusion_matrix(y_test, y_pred_best_model)\n",
    "disp = ConfusionMatrixDisplay(confusion_matrix=cm)\n",
    "disp.plot()\n",
    "plt.title('Confusion Matrix KNN Model')\n",
    "plt.grid()"
   ]
  },
  {
   "cell_type": "code",
   "execution_count": null,
   "metadata": {},
   "outputs": [
    {
     "ename": "NameError",
     "evalue": "name 'data_ml' is not defined",
     "output_type": "error",
     "traceback": [
      "\u001b[1;31m---------------------------------------------------------------------------\u001b[0m",
      "\u001b[1;31mNameError\u001b[0m                                 Traceback (most recent call last)",
      "Cell \u001b[1;32mIn[1], line 1\u001b[0m\n\u001b[1;32m----> 1\u001b[0m data_ml_pred \u001b[38;5;241m=\u001b[39m \u001b[43mdata_ml\u001b[49m[X_test\u001b[38;5;241m.\u001b[39mindex]\n",
      "\u001b[1;31mNameError\u001b[0m: name 'data_ml' is not defined"
     ]
    }
   ],
   "source": [
    "#Evaluation\n",
    "print('recall:',recall_score(y_test,y_pred_best_model))\n",
    "print('')\n",
    "print('accuracy_score:' ,accuracy_score(y_test,y_pred_best_model))\n",
    "print('precision_score:', precision_score(y_test,y_pred_best_model))\n",
    "print('f1_score:', f1_score(y_test,y_pred_best_model))\n",
    "print('roc_auc_score:', roc_auc_score(y_test,y_pred_best_model))"
   ]
  }
 ],
 "metadata": {
  "kernelspec": {
   "display_name": "Python 3",
   "language": "python",
   "name": "python3"
  },
  "language_info": {
   "codemirror_mode": {
    "name": "ipython",
    "version": 3
   },
   "file_extension": ".py",
   "mimetype": "text/x-python",
   "name": "python",
   "nbconvert_exporter": "python",
   "pygments_lexer": "ipython3",
   "version": "3.12.2"
  }
 },
 "nbformat": 4,
 "nbformat_minor": 2
}
